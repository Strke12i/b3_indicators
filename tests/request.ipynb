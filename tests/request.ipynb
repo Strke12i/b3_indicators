{
 "cells": [
  {
   "cell_type": "code",
   "execution_count": 1,
   "metadata": {},
   "outputs": [],
   "source": [
    "import requests\n",
    "from bs4 import BeautifulSoup"
   ]
  },
  {
   "cell_type": "code",
   "execution_count": 2,
   "metadata": {},
   "outputs": [],
   "source": [
    "url_itr = \"https://dados.cvm.gov.br/dados/CIA_ABERTA/DOC/ITR/DADOS/\"\n",
    "url_dfp = \"https://dados.cvm.gov.br/dados/CIA_ABERTA/DOC/DFP/DADOS/\""
   ]
  },
  {
   "cell_type": "code",
   "execution_count": 28,
   "metadata": {},
   "outputs": [],
   "source": [
    "def buscar_datas(url):\n",
    "    requests_itr = requests.get(url)\n",
    "    response_itr = requests_itr.text\n",
    "\n",
    "    html_itr = BeautifulSoup(response_itr, 'html.parser')\n",
    "\n",
    "    lines = html_itr.find_all('pre')[0].text.split('\\r')\n",
    "\n",
    "    for line in lines[:]:  # Iterate over a copy of the list to avoid modifying it while iterating\n",
    "        if '.zip' not in line:\n",
    "            lines.remove(line)  # Use remove() to delete the element from the list\n",
    "\n",
    "    for i in range(len(lines)):\n",
    "        lines[i] = lines[i].replace('\\n', '')\n",
    "\n",
    "    arquivos = {}\n",
    "    for line in lines:\n",
    "        arquivos[line.split()[0]] = line.split()[1]\n",
    "        \n",
    "    return arquivos"
   ]
  },
  {
   "cell_type": "code",
   "execution_count": 30,
   "metadata": {},
   "outputs": [
    {
     "data": {
      "text/plain": [
       "{'itr_cia_aberta_2011.zip': '05-Aug-2024',\n",
       " 'itr_cia_aberta_2012.zip': '05-Aug-2024',\n",
       " 'itr_cia_aberta_2013.zip': '05-Aug-2024',\n",
       " 'itr_cia_aberta_2014.zip': '05-Aug-2024',\n",
       " 'itr_cia_aberta_2015.zip': '05-Aug-2024',\n",
       " 'itr_cia_aberta_2016.zip': '05-Aug-2024',\n",
       " 'itr_cia_aberta_2017.zip': '05-Aug-2024',\n",
       " 'itr_cia_aberta_2018.zip': '05-Aug-2024',\n",
       " 'itr_cia_aberta_2019.zip': '05-Aug-2024',\n",
       " 'itr_cia_aberta_2020.zip': '29-Dec-2024',\n",
       " 'itr_cia_aberta_2021.zip': '30-Mar-2025',\n",
       " 'itr_cia_aberta_2022.zip': '30-Mar-2025',\n",
       " 'itr_cia_aberta_2023.zip': '30-Mar-2025',\n",
       " 'itr_cia_aberta_2024.zip': '30-Mar-2025'}"
      ]
     },
     "execution_count": 30,
     "metadata": {},
     "output_type": "execute_result"
    }
   ],
   "source": [
    "arquivos"
   ]
  }
 ],
 "metadata": {
  "kernelspec": {
   "display_name": "Python 3",
   "language": "python",
   "name": "python3"
  },
  "language_info": {
   "codemirror_mode": {
    "name": "ipython",
    "version": 3
   },
   "file_extension": ".py",
   "mimetype": "text/x-python",
   "name": "python",
   "nbconvert_exporter": "python",
   "pygments_lexer": "ipython3",
   "version": "3.12.0"
  }
 },
 "nbformat": 4,
 "nbformat_minor": 2
}
